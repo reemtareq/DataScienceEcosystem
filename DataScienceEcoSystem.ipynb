{
  "metadata": {
    "language_info": {
      "name": ""
    },
    "kernelspec": {
      "name": "python",
      "display_name": "Python (Pyodide)",
      "language": "python"
    }
  },
  "nbformat_minor": 4,
  "nbformat": 4,
  "cells": [
    {
      "cell_type": "markdown",
      "source": "# Data Science tools and Ecosystem\n",
      "metadata": {}
    },
    {
      "cell_type": "markdown",
      "source": "in this notebook, Data Science Tools and Ecosystem are summerized \n",
      "metadata": {}
    },
    {
      "cell_type": "markdown",
      "source": "some of the popular languages that data scienctists use are:\n1. Python\n2. R\n3. SQL\n4. Java\n5. Scala\n6. C++",
      "metadata": {}
    },
    {
      "cell_type": "markdown",
      "source": "some of the commonly used libraries used by data scientists include:\n1. Pandas\n2. NumPy\n3. Matplotlib",
      "metadata": {}
    },
    {
      "cell_type": "markdown",
      "source": "| Data Science Tools |\n| ------------------ |\n| Apache Spark |\n| TensorFlow |\n| Apache Hadoop |",
      "metadata": {}
    },
    {
      "cell_type": "markdown",
      "source": "### below are a few examples of evaluating arithmetic expressions in python ",
      "metadata": {}
    },
    {
      "cell_type": "code",
      "source": "#this is a single arithmetic expression to multiply then add integers\n(3*4)+5",
      "metadata": {
        "trusted": true
      },
      "execution_count": null,
      "outputs": []
    },
    {
      "cell_type": "code",
      "source": "#this will convert 200 minutes to hours by dividing by 60\n200/60",
      "metadata": {
        "trusted": true
      },
      "execution_count": null,
      "outputs": []
    },
    {
      "cell_type": "markdown",
      "source": "**Objective:**\n   - list popular languages in data science\n   - list commonly used libraries used by data scientists\n   - know how to use headings\n   - know how to do simple arithmetic expressions by python",
      "metadata": {}
    },
    {
      "cell_type": "markdown",
      "source": "## Author\nReem Tareq",
      "metadata": {}
    },
    {
      "cell_type": "code",
      "source": "",
      "metadata": {},
      "execution_count": null,
      "outputs": []
    }
  ]
}